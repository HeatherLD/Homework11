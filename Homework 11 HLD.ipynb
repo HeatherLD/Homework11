{
 "cells": [
  {
   "cell_type": "markdown",
   "id": "377105e9",
   "metadata": {},
   "source": [
    "# Homework Week 11, Heather Leighton-Dick"
   ]
  },
  {
   "cell_type": "markdown",
   "id": "93385ce3",
   "metadata": {},
   "source": [
    "## 1.\tWhat scale of measurement applies to timeseries data? Is timeseries data continuous or discrete? Why?"
   ]
  },
  {
   "cell_type": "markdown",
   "id": "04e6cae4",
   "metadata": {},
   "source": [
    "Timeseries data is quantitative and is measured on an interval scale with the same distance between data points. Timeseries data is continuous because the distances between data points can be divided into smaller increments."
   ]
  },
  {
   "cell_type": "markdown",
   "id": "7b6cb90c",
   "metadata": {},
   "source": [
    "## 2.\tWhat does ARIMA stand for? Break down and explain each piece in the name."
   ]
  },
  {
   "cell_type": "markdown",
   "id": "02f5f3fa",
   "metadata": {},
   "source": [
    "ARIMA stands for Auto Regression Integration Moving Average. AR (autoregressive) is a model that uses input from previous steps in time for calculating present values and predicting future values. (Order of) Integration is a process used to make a series stationary (eliminates exponential . The Moving Average model smoothes out data over a particular time period by creating a constantly averaged value."
   ]
  },
  {
   "cell_type": "markdown",
   "id": "e97fe351",
   "metadata": {},
   "source": [
    "## 3.\tUse the data in the temperatures/ folder and write a function that efficiently converts every column to a different temperature scale; one that is more common than Kelvin."
   ]
  },
  {
   "cell_type": "code",
   "execution_count": 98,
   "id": "adea72c4",
   "metadata": {},
   "outputs": [
    {
     "name": "stdout",
     "output_type": "stream",
     "text": [
      "          datetime   Vancouver    Portland  San Francisco     Seattle  \\\n",
      "0  10/1/2012 12:00         NaN         NaN            NaN         NaN   \n",
      "1  10/1/2012 13:00  284.630000  282.080000     289.480000  281.800000   \n",
      "2  10/1/2012 14:00  284.629041  282.083252     289.474993  281.797217   \n",
      "3  10/1/2012 15:00  284.626998  282.091866     289.460618  281.789833   \n",
      "4  10/1/2012 16:00  284.624955  282.100481     289.446243  281.782449   \n",
      "\n",
      "   Los Angeles   San Diego   Las Vegas     Phoenix  Albuquerque  ...  \\\n",
      "0          NaN         NaN         NaN         NaN          NaN  ...   \n",
      "1   291.870000  291.530000  293.410000  296.600000   285.120000  ...   \n",
      "2   291.868185  291.533501  293.403141  296.608509   285.154558  ...   \n",
      "3   291.862844  291.543355  293.392177  296.631487   285.233952  ...   \n",
      "4   291.857503  291.553209  293.381213  296.654466   285.313345  ...   \n",
      "\n",
      "   Philadelphia    New York    Montreal      Boston   Beersheba  \\\n",
      "0           NaN         NaN         NaN         NaN         NaN   \n",
      "1    285.630000  288.220000  285.830000  287.170000  307.590000   \n",
      "2    285.663208  288.247676  285.834650  287.186092  307.590000   \n",
      "3    285.756824  288.326940  285.847789  287.231672  307.391513   \n",
      "4    285.850440  288.406203  285.860929  287.277251  307.145200   \n",
      "\n",
      "   Tel Aviv District       Eilat  Haifa  Nahariyya  Jerusalem  \n",
      "0                NaN  309.100000    NaN        NaN        NaN  \n",
      "1         305.470000  310.580000  304.4      304.4      303.5  \n",
      "2         304.310000  310.495769  304.4      304.4      303.5  \n",
      "3         304.281841  310.411539  304.4      304.4      303.5  \n",
      "4         304.238015  310.327308  304.4      304.4      303.5  \n",
      "\n",
      "[5 rows x 37 columns]\n",
      "               datetime  Vancouver  Portland  San Francisco  Seattle  \\\n",
      "45248  11/29/2017 20:00        NaN    282.00            NaN   280.82   \n",
      "45249  11/29/2017 21:00        NaN    282.89            NaN   281.65   \n",
      "45250  11/29/2017 22:00        NaN    283.39            NaN   282.75   \n",
      "45251  11/29/2017 23:00        NaN    283.02            NaN   282.96   \n",
      "45252   11/30/2017 0:00        NaN    282.28            NaN   283.04   \n",
      "\n",
      "       Los Angeles  San Diego  Las Vegas  Phoenix  Albuquerque  ...  \\\n",
      "45248       293.55     292.15     289.54   294.71       285.72  ...   \n",
      "45249       295.68     292.74     290.61   295.59       286.45  ...   \n",
      "45250       295.96     292.58     291.34   296.25       286.44  ...   \n",
      "45251       295.65     292.61     292.15   297.15       286.14  ...   \n",
      "45252       294.93     291.40     291.64   297.15       284.70  ...   \n",
      "\n",
      "       Philadelphia  New York  Montreal  Boston  Beersheba  Tel Aviv District  \\\n",
      "45248        290.24       NaN    275.13  288.08        NaN                NaN   \n",
      "45249        289.24       NaN    274.13  286.02        NaN                NaN   \n",
      "45250        286.78       NaN    273.48  283.94        NaN                NaN   \n",
      "45251        284.57       NaN    272.48  282.17        NaN                NaN   \n",
      "45252        283.42       NaN    271.80  280.65        NaN                NaN   \n",
      "\n",
      "       Eilat  Haifa  Nahariyya  Jerusalem  \n",
      "45248    NaN    NaN        NaN        NaN  \n",
      "45249    NaN    NaN        NaN        NaN  \n",
      "45250    NaN    NaN        NaN        NaN  \n",
      "45251    NaN    NaN        NaN        NaN  \n",
      "45252    NaN    NaN        NaN        NaN  \n",
      "\n",
      "[5 rows x 37 columns]\n",
      "45253\n",
      "0               NaN\n",
      "1        281.800000\n",
      "2        281.797217\n",
      "3        281.789833\n",
      "4        281.782449\n",
      "            ...    \n",
      "45248    280.820000\n",
      "45249    281.650000\n",
      "45250    282.750000\n",
      "45251    282.960000\n",
      "45252    283.040000\n",
      "Name: Seattle, Length: 45253, dtype: float64\n"
     ]
    }
   ],
   "source": [
    "import numpy as np\n",
    "import pandas as pd\n",
    "import math\n",
    "import statistics\n",
    "from scipy import stats\n",
    "import matplotlib.pyplot as plt\n",
    "import seaborn as sns\n",
    "from scipy.stats import poisson\n",
    "\n",
    "from statsmodels.graphics.tsaplots import plot_pacf\n",
    "from statsmodels.graphics.tsaplots import plot_acf\n",
    "from statsmodels.tsa.statespace.sarimax import SARIMAX\n",
    "from statsmodels.tsa.holtwinters import ExponentialSmoothing\n",
    "from statsmodels.tsa.stattools import adfuller\n",
    "#from tqdm import tqdm_notebook\n",
    "#from itertools import product\n",
    "import warnings\n",
    "warnings.filterwarnings('ignore')\n",
    "\n",
    "#bring in csv and convert it to a dataframe\n",
    "temperature_path = \"temperature.csv\"\n",
    "temperature_df = pd.read_csv(temperature_path)\n",
    "temperature_df = pd.DataFrame(temperature_df)\n",
    "print(temperature_df.head(5))\n",
    "print(temperature_df.tail(5))\n",
    "print(len(temperature_df))\n",
    "print(temperature_df[\"Seattle\"])\n",
    "#print(temperature_df.info())\n",
    "#print(temperature_df.describe())\n",
    "#print(temperature_df.index)"
   ]
  },
  {
   "cell_type": "code",
   "execution_count": 108,
   "id": "85d6b2c4",
   "metadata": {},
   "outputs": [
    {
     "name": "stdout",
     "output_type": "stream",
     "text": [
      "          datetime  Vancouver   Portland  San Francisco    Seattle  \\\n",
      "0  10/1/2012 12:00        NaN        NaN            NaN        NaN   \n",
      "1  10/1/2012 13:00  52.664000  48.074000      61.394000  47.570000   \n",
      "2  10/1/2012 14:00  52.662274  48.079854      61.384987  47.564990   \n",
      "3  10/1/2012 15:00  52.658596  48.095360      61.359113  47.551699   \n",
      "4  10/1/2012 16:00  52.654918  48.110866      61.333238  47.538407   \n",
      "5  10/1/2012 17:00  52.651240  48.126372      61.307364  47.525116   \n",
      "6  10/1/2012 18:00  52.647562  48.141878      61.281489  47.511825   \n",
      "7  10/1/2012 19:00  52.643884  48.157384      61.255615  47.498534   \n",
      "8  10/1/2012 20:00  52.640206  48.172890      61.229740  47.485243   \n",
      "9  10/1/2012 21:00  52.636528  48.188396      61.203866  47.471951   \n",
      "\n",
      "   Los Angeles  San Diego  Las Vegas    Phoenix  Albuquerque  ...  \\\n",
      "0          NaN        NaN        NaN        NaN          NaN  ...   \n",
      "1    65.696000  65.084000  68.468000  74.210000    53.546000  ...   \n",
      "2    65.692734  65.090302  68.455654  74.225315    53.608205  ...   \n",
      "3    65.683120  65.108039  68.435919  74.266677    53.751113  ...   \n",
      "4    65.673506  65.125777  68.416183  74.308039    53.894021  ...   \n",
      "5    65.663892  65.143514  68.396447  74.349401    54.036929  ...   \n",
      "6    65.654278  65.161252  68.376712  74.390763    54.179837  ...   \n",
      "7    65.644664  65.178989  68.356976  74.432125    54.322745  ...   \n",
      "8    65.635050  65.196726  68.337241  74.473487    54.465653  ...   \n",
      "9    65.625437  65.214464  68.317505  74.514848    54.608562  ...   \n",
      "\n",
      "   Philadelphia   New York   Montreal     Boston  Beersheba  \\\n",
      "0           NaN        NaN        NaN        NaN        NaN   \n",
      "1     54.464000  59.126000  54.824000  57.236000  93.992000   \n",
      "2     54.523774  59.175817  54.832370  57.264966  93.992000   \n",
      "3     54.692283  59.318491  54.856021  57.347009  93.634723   \n",
      "4     54.860793  59.461166  54.879672  57.429052  93.191359   \n",
      "5     55.029302  59.603840  54.903324  57.511095  92.747996   \n",
      "6     55.197812  59.746514  54.926975  57.593138  92.304633   \n",
      "7     55.366321  59.889188  54.950626  57.675181  91.861269   \n",
      "8     55.534830  60.031863  54.974277  57.757224  91.417906   \n",
      "9     55.703340  60.174537  54.997929  57.839267  90.974542   \n",
      "\n",
      "   Tel Aviv District      Eilat  Haifa  Nahariyya  Jerusalem  \n",
      "0                NaN  96.710000    NaN        NaN        NaN  \n",
      "1          90.176000  99.374000  88.25      88.25      86.63  \n",
      "2          88.088000  99.222385  88.25      88.25      86.63  \n",
      "3          88.037314  99.070769  88.25      88.25      86.63  \n",
      "4          87.958426  98.919154  88.25      88.25      86.63  \n",
      "5          87.879538  98.767538  88.25      88.25      86.63  \n",
      "6          87.800650  98.615923  88.25      88.25      86.63  \n",
      "7          87.721762  98.464308  88.25      88.25      86.63  \n",
      "8          87.642874  98.312692  88.25      88.25      86.63  \n",
      "9          87.563986  98.161077  88.25      88.25      86.63  \n",
      "\n",
      "[10 rows x 37 columns]\n"
     ]
    }
   ],
   "source": [
    "#convert Kelvins to Fahrenheit in each city column, avoiding NaNs\n",
    "#dates span from 10-1-2012 to 11-30-2017\n",
    "\n",
    "def convert_K_to_F(x):    \n",
    "    if type(x) == str:\n",
    "        return x\n",
    "    else:\n",
    "        return ((x - 273.15) * 1.8) + 32\n",
    "\n",
    "temperatureF_df = temperature_df.applymap(convert_K_to_F, na_action=\"ignore\")\n",
    "print(temperatureF_df.head(10))"
   ]
  },
  {
   "cell_type": "code",
   "execution_count": 20,
   "id": "ecaffe75",
   "metadata": {},
   "outputs": [
    {
     "ename": "SyntaxError",
     "evalue": "invalid syntax (2232600446.py, line 23)",
     "output_type": "error",
     "traceback": [
      "\u001b[0;36m  File \u001b[0;32m\"/var/folders/_g/ndr230vr8xj4_h001s7lzdlh0000gp/T/ipykernel_18008/2232600446.py\"\u001b[0;36m, line \u001b[0;32m23\u001b[0m\n\u001b[0;31m    --------------------------------------\u001b[0m\n\u001b[0m                                          ^\u001b[0m\n\u001b[0;31mSyntaxError\u001b[0m\u001b[0;31m:\u001b[0m invalid syntax\n"
     ]
    }
   ],
   "source": [
    "def x(a):\n",
    "    return a + 1 \n",
    "\n",
    "df_new  = df.apply(x, axis = 1)\n",
    "\n",
    "print(\"The original dataframe:\")\n",
    "print(df)\n",
    "print(\"The new dataframe:\")\n",
    "print(df_new)\n",
    "\n",
    "\n",
    "\n",
    "def convert_temp(scale=None, source_temp=None):\n",
    "    if scale == \"F\":\n",
    "        return 'C', (source_temp - 32.0) * (5.0/9.0)\n",
    "    elif scale == \"C\":\n",
    "        return 'F', (source_temp * (9.0/5.0)) + 32.0\n",
    "    else:\n",
    "        print(\"Needs to be (F) or (C)!\")\n",
    "        \n",
    "temp = input(\"Input the  temperature you like to convert? (e.g., 45F, 102C etc.) : \")\n",
    "degree = int(temp[:-1])\n",
    "i_convention = temp[-1]\n",
    "\n",
    "if i_convention.upper() == \"C\":\n",
    "  result = int(round((9 * degree) / 5 + 32))\n",
    "  o_convention = \"Fahrenheit\"\n",
    "elif i_convention.upper() == \"F\":\n",
    "  result = int(round((degree - 32) * 5 / 9))\n",
    "  o_convention = \"Celsius\"\n",
    "else:\n",
    "  print(\"Input proper convention.\")\n",
    "  quit()\n",
    "print(\"The temperature in\", o_convention, \"is\", result, \"degrees.\")\n",
    "--------------------------------------\n",
    "df['B'] = df['A'].replace({'M' : '*10000', 'K' : '*1'},regex=True).map(pd.eval)\n",
    "--------------------------------------\n",
    "def fahr_to_celsius(temp_fahr):\n",
    "    \"\"\"Convert Fahrenheit to Celsius\n",
    "    \n",
    "    Return Celsius conversion of input\"\"\"\n",
    "    temp_celsius = (temp_fahr - 32) * 5 / 9\n",
    "    return temp_celsius\n",
    "\n",
    "\n",
    "fahr_to_celsius(data[\"temperature\"])\n",
    "\n",
    "#https://sparkbyexamples.com/pandas/pandas-apply-function-usage-examples/\n"
   ]
  },
  {
   "cell_type": "markdown",
   "id": "96d19a6b",
   "metadata": {},
   "source": [
    "## 4.\tWrite a function that efficiently fills in missing values in every column, excluding trailing NANs. That is: if there's temperature data on either side of a timestamp, it should interpolate through it. But if data stopped being collected, your function should leave NaNs at the end.\n",
    "sdff"
   ]
  },
  {
   "cell_type": "code",
   "execution_count": null,
   "id": "155af8b4",
   "metadata": {},
   "outputs": [],
   "source": [
    "#fill in missing values with O's except for trailing NaNs\n",
    "def fill_in(x):\n",
    "    if x is alone, leave it\n",
    "    if x is surrounded, change it\n",
    "    df.dropna() except if NaN is at end of column"
   ]
  },
  {
   "cell_type": "markdown",
   "id": "39e327ed",
   "metadata": {},
   "source": [
    "## 5.\tFind all cities A and B where city A is warmer than city B in the summer, but also colder than city B in the winter, on average."
   ]
  },
  {
   "cell_type": "code",
   "execution_count": null,
   "id": "84387db2",
   "metadata": {},
   "outputs": [],
   "source": [
    "#take average of city A in summer and winter, and average of city B in summer and winter\n",
    "#compare city A summer > city B summer AND city A winter < city B winter\n",
    "\n",
    "#for each city, find the average temperature for the summer (J J A), \n",
    "#then take average of that season across all years"
   ]
  },
  {
   "cell_type": "markdown",
   "id": "00946861",
   "metadata": {},
   "source": [
    "## 6.\tFor two of the cities you found in question 5 (there are many possible answers), clean up the data via rolling averages and plot a clear visual. Explain how rolling average differs from moving average (MA) model."
   ]
  },
  {
   "cell_type": "code",
   "execution_count": null,
   "id": "75dd0750",
   "metadata": {},
   "outputs": [],
   "source": []
  },
  {
   "cell_type": "markdown",
   "id": "b4eaa216",
   "metadata": {},
   "source": [
    "## 7.\tPerform SARIMA on five cities, iterating through the cities programmatically. Explain your results."
   ]
  },
  {
   "cell_type": "code",
   "execution_count": 12,
   "id": "bf133ced",
   "metadata": {},
   "outputs": [
    {
     "ename": "MissingDataError",
     "evalue": "exog contains inf or nans",
     "output_type": "error",
     "traceback": [
      "\u001b[0;31m---------------------------------------------------------------------------\u001b[0m",
      "\u001b[0;31mMissingDataError\u001b[0m                          Traceback (most recent call last)",
      "\u001b[0;32m/var/folders/_g/ndr230vr8xj4_h001s7lzdlh0000gp/T/ipykernel_18008/3204851616.py\u001b[0m in \u001b[0;36m<module>\u001b[0;34m\u001b[0m\n\u001b[0;32m----> 1\u001b[0;31m \u001b[0madfuller_Seattle\u001b[0m \u001b[0;34m=\u001b[0m \u001b[0madfuller\u001b[0m\u001b[0;34m(\u001b[0m\u001b[0mtemperature_df\u001b[0m\u001b[0;34m[\u001b[0m\u001b[0;34m'Seattle'\u001b[0m\u001b[0;34m]\u001b[0m\u001b[0;34m)\u001b[0m\u001b[0;34m\u001b[0m\u001b[0;34m\u001b[0m\u001b[0m\n\u001b[0m\u001b[1;32m      2\u001b[0m \u001b[0mprint\u001b[0m\u001b[0;34m(\u001b[0m\u001b[0madfuller_Seattle\u001b[0m\u001b[0;34m[\u001b[0m\u001b[0;36m1\u001b[0m\u001b[0;34m]\u001b[0m\u001b[0;34m)\u001b[0m\u001b[0;34m\u001b[0m\u001b[0;34m\u001b[0m\u001b[0m\n",
      "\u001b[0;32m/Library/Frameworks/Python.framework/Versions/3.9/lib/python3.9/site-packages/statsmodels/tsa/stattools.py\u001b[0m in \u001b[0;36madfuller\u001b[0;34m(x, maxlag, regression, autolag, store, regresults)\u001b[0m\n\u001b[1;32m    319\u001b[0m \u001b[0;34m\u001b[0m\u001b[0m\n\u001b[1;32m    320\u001b[0m         \u001b[0;32mif\u001b[0m \u001b[0;32mnot\u001b[0m \u001b[0mregresults\u001b[0m\u001b[0;34m:\u001b[0m\u001b[0;34m\u001b[0m\u001b[0;34m\u001b[0m\u001b[0m\n\u001b[0;32m--> 321\u001b[0;31m             icbest, bestlag = _autolag(\n\u001b[0m\u001b[1;32m    322\u001b[0m                 \u001b[0mOLS\u001b[0m\u001b[0;34m,\u001b[0m \u001b[0mxdshort\u001b[0m\u001b[0;34m,\u001b[0m \u001b[0mfullRHS\u001b[0m\u001b[0;34m,\u001b[0m \u001b[0mstartlag\u001b[0m\u001b[0;34m,\u001b[0m \u001b[0mmaxlag\u001b[0m\u001b[0;34m,\u001b[0m \u001b[0mautolag\u001b[0m\u001b[0;34m\u001b[0m\u001b[0;34m\u001b[0m\u001b[0m\n\u001b[1;32m    323\u001b[0m             )\n",
      "\u001b[0;32m/Library/Frameworks/Python.framework/Versions/3.9/lib/python3.9/site-packages/statsmodels/tsa/stattools.py\u001b[0m in \u001b[0;36m_autolag\u001b[0;34m(mod, endog, exog, startlag, maxlag, method, modargs, fitargs, regresults)\u001b[0m\n\u001b[1;32m    127\u001b[0m     \u001b[0mmethod\u001b[0m \u001b[0;34m=\u001b[0m \u001b[0mmethod\u001b[0m\u001b[0;34m.\u001b[0m\u001b[0mlower\u001b[0m\u001b[0;34m(\u001b[0m\u001b[0;34m)\u001b[0m\u001b[0;34m\u001b[0m\u001b[0;34m\u001b[0m\u001b[0m\n\u001b[1;32m    128\u001b[0m     \u001b[0;32mfor\u001b[0m \u001b[0mlag\u001b[0m \u001b[0;32min\u001b[0m \u001b[0mrange\u001b[0m\u001b[0;34m(\u001b[0m\u001b[0mstartlag\u001b[0m\u001b[0;34m,\u001b[0m \u001b[0mstartlag\u001b[0m \u001b[0;34m+\u001b[0m \u001b[0mmaxlag\u001b[0m \u001b[0;34m+\u001b[0m \u001b[0;36m1\u001b[0m\u001b[0;34m)\u001b[0m\u001b[0;34m:\u001b[0m\u001b[0;34m\u001b[0m\u001b[0;34m\u001b[0m\u001b[0m\n\u001b[0;32m--> 129\u001b[0;31m         \u001b[0mmod_instance\u001b[0m \u001b[0;34m=\u001b[0m \u001b[0mmod\u001b[0m\u001b[0;34m(\u001b[0m\u001b[0mendog\u001b[0m\u001b[0;34m,\u001b[0m \u001b[0mexog\u001b[0m\u001b[0;34m[\u001b[0m\u001b[0;34m:\u001b[0m\u001b[0;34m,\u001b[0m \u001b[0;34m:\u001b[0m\u001b[0mlag\u001b[0m\u001b[0;34m]\u001b[0m\u001b[0;34m,\u001b[0m \u001b[0;34m*\u001b[0m\u001b[0mmodargs\u001b[0m\u001b[0;34m)\u001b[0m\u001b[0;34m\u001b[0m\u001b[0;34m\u001b[0m\u001b[0m\n\u001b[0m\u001b[1;32m    130\u001b[0m         \u001b[0mresults\u001b[0m\u001b[0;34m[\u001b[0m\u001b[0mlag\u001b[0m\u001b[0;34m]\u001b[0m \u001b[0;34m=\u001b[0m \u001b[0mmod_instance\u001b[0m\u001b[0;34m.\u001b[0m\u001b[0mfit\u001b[0m\u001b[0;34m(\u001b[0m\u001b[0;34m)\u001b[0m\u001b[0;34m\u001b[0m\u001b[0;34m\u001b[0m\u001b[0m\n\u001b[1;32m    131\u001b[0m \u001b[0;34m\u001b[0m\u001b[0m\n",
      "\u001b[0;32m/Library/Frameworks/Python.framework/Versions/3.9/lib/python3.9/site-packages/statsmodels/regression/linear_model.py\u001b[0m in \u001b[0;36m__init__\u001b[0;34m(self, endog, exog, missing, hasconst, **kwargs)\u001b[0m\n\u001b[1;32m    890\u001b[0m                    \"An exception will be raised in the next version.\")\n\u001b[1;32m    891\u001b[0m             \u001b[0mwarnings\u001b[0m\u001b[0;34m.\u001b[0m\u001b[0mwarn\u001b[0m\u001b[0;34m(\u001b[0m\u001b[0mmsg\u001b[0m\u001b[0;34m,\u001b[0m \u001b[0mValueWarning\u001b[0m\u001b[0;34m)\u001b[0m\u001b[0;34m\u001b[0m\u001b[0;34m\u001b[0m\u001b[0m\n\u001b[0;32m--> 892\u001b[0;31m         super(OLS, self).__init__(endog, exog, missing=missing,\n\u001b[0m\u001b[1;32m    893\u001b[0m                                   hasconst=hasconst, **kwargs)\n\u001b[1;32m    894\u001b[0m         \u001b[0;32mif\u001b[0m \u001b[0;34m\"weights\"\u001b[0m \u001b[0;32min\u001b[0m \u001b[0mself\u001b[0m\u001b[0;34m.\u001b[0m\u001b[0m_init_keys\u001b[0m\u001b[0;34m:\u001b[0m\u001b[0;34m\u001b[0m\u001b[0;34m\u001b[0m\u001b[0m\n",
      "\u001b[0;32m/Library/Frameworks/Python.framework/Versions/3.9/lib/python3.9/site-packages/statsmodels/regression/linear_model.py\u001b[0m in \u001b[0;36m__init__\u001b[0;34m(self, endog, exog, weights, missing, hasconst, **kwargs)\u001b[0m\n\u001b[1;32m    717\u001b[0m         \u001b[0;32melse\u001b[0m\u001b[0;34m:\u001b[0m\u001b[0;34m\u001b[0m\u001b[0;34m\u001b[0m\u001b[0m\n\u001b[1;32m    718\u001b[0m             \u001b[0mweights\u001b[0m \u001b[0;34m=\u001b[0m \u001b[0mweights\u001b[0m\u001b[0;34m.\u001b[0m\u001b[0msqueeze\u001b[0m\u001b[0;34m(\u001b[0m\u001b[0;34m)\u001b[0m\u001b[0;34m\u001b[0m\u001b[0;34m\u001b[0m\u001b[0m\n\u001b[0;32m--> 719\u001b[0;31m         super(WLS, self).__init__(endog, exog, missing=missing,\n\u001b[0m\u001b[1;32m    720\u001b[0m                                   weights=weights, hasconst=hasconst, **kwargs)\n\u001b[1;32m    721\u001b[0m         \u001b[0mnobs\u001b[0m \u001b[0;34m=\u001b[0m \u001b[0mself\u001b[0m\u001b[0;34m.\u001b[0m\u001b[0mexog\u001b[0m\u001b[0;34m.\u001b[0m\u001b[0mshape\u001b[0m\u001b[0;34m[\u001b[0m\u001b[0;36m0\u001b[0m\u001b[0;34m]\u001b[0m\u001b[0;34m\u001b[0m\u001b[0;34m\u001b[0m\u001b[0m\n",
      "\u001b[0;32m/Library/Frameworks/Python.framework/Versions/3.9/lib/python3.9/site-packages/statsmodels/regression/linear_model.py\u001b[0m in \u001b[0;36m__init__\u001b[0;34m(self, endog, exog, **kwargs)\u001b[0m\n\u001b[1;32m    191\u001b[0m     \"\"\"\n\u001b[1;32m    192\u001b[0m     \u001b[0;32mdef\u001b[0m \u001b[0m__init__\u001b[0m\u001b[0;34m(\u001b[0m\u001b[0mself\u001b[0m\u001b[0;34m,\u001b[0m \u001b[0mendog\u001b[0m\u001b[0;34m,\u001b[0m \u001b[0mexog\u001b[0m\u001b[0;34m,\u001b[0m \u001b[0;34m**\u001b[0m\u001b[0mkwargs\u001b[0m\u001b[0;34m)\u001b[0m\u001b[0;34m:\u001b[0m\u001b[0;34m\u001b[0m\u001b[0;34m\u001b[0m\u001b[0m\n\u001b[0;32m--> 193\u001b[0;31m         \u001b[0msuper\u001b[0m\u001b[0;34m(\u001b[0m\u001b[0mRegressionModel\u001b[0m\u001b[0;34m,\u001b[0m \u001b[0mself\u001b[0m\u001b[0;34m)\u001b[0m\u001b[0;34m.\u001b[0m\u001b[0m__init__\u001b[0m\u001b[0;34m(\u001b[0m\u001b[0mendog\u001b[0m\u001b[0;34m,\u001b[0m \u001b[0mexog\u001b[0m\u001b[0;34m,\u001b[0m \u001b[0;34m**\u001b[0m\u001b[0mkwargs\u001b[0m\u001b[0;34m)\u001b[0m\u001b[0;34m\u001b[0m\u001b[0;34m\u001b[0m\u001b[0m\n\u001b[0m\u001b[1;32m    194\u001b[0m         \u001b[0mself\u001b[0m\u001b[0;34m.\u001b[0m\u001b[0m_data_attr\u001b[0m\u001b[0;34m.\u001b[0m\u001b[0mextend\u001b[0m\u001b[0;34m(\u001b[0m\u001b[0;34m[\u001b[0m\u001b[0;34m'pinv_wexog'\u001b[0m\u001b[0;34m,\u001b[0m \u001b[0;34m'wendog'\u001b[0m\u001b[0;34m,\u001b[0m \u001b[0;34m'wexog'\u001b[0m\u001b[0;34m,\u001b[0m \u001b[0;34m'weights'\u001b[0m\u001b[0;34m]\u001b[0m\u001b[0;34m)\u001b[0m\u001b[0;34m\u001b[0m\u001b[0;34m\u001b[0m\u001b[0m\n\u001b[1;32m    195\u001b[0m \u001b[0;34m\u001b[0m\u001b[0m\n",
      "\u001b[0;32m/Library/Frameworks/Python.framework/Versions/3.9/lib/python3.9/site-packages/statsmodels/base/model.py\u001b[0m in \u001b[0;36m__init__\u001b[0;34m(self, endog, exog, **kwargs)\u001b[0m\n\u001b[1;32m    265\u001b[0m \u001b[0;34m\u001b[0m\u001b[0m\n\u001b[1;32m    266\u001b[0m     \u001b[0;32mdef\u001b[0m \u001b[0m__init__\u001b[0m\u001b[0;34m(\u001b[0m\u001b[0mself\u001b[0m\u001b[0;34m,\u001b[0m \u001b[0mendog\u001b[0m\u001b[0;34m,\u001b[0m \u001b[0mexog\u001b[0m\u001b[0;34m=\u001b[0m\u001b[0;32mNone\u001b[0m\u001b[0;34m,\u001b[0m \u001b[0;34m**\u001b[0m\u001b[0mkwargs\u001b[0m\u001b[0;34m)\u001b[0m\u001b[0;34m:\u001b[0m\u001b[0;34m\u001b[0m\u001b[0;34m\u001b[0m\u001b[0m\n\u001b[0;32m--> 267\u001b[0;31m         \u001b[0msuper\u001b[0m\u001b[0;34m(\u001b[0m\u001b[0;34m)\u001b[0m\u001b[0;34m.\u001b[0m\u001b[0m__init__\u001b[0m\u001b[0;34m(\u001b[0m\u001b[0mendog\u001b[0m\u001b[0;34m,\u001b[0m \u001b[0mexog\u001b[0m\u001b[0;34m,\u001b[0m \u001b[0;34m**\u001b[0m\u001b[0mkwargs\u001b[0m\u001b[0;34m)\u001b[0m\u001b[0;34m\u001b[0m\u001b[0;34m\u001b[0m\u001b[0m\n\u001b[0m\u001b[1;32m    268\u001b[0m         \u001b[0mself\u001b[0m\u001b[0;34m.\u001b[0m\u001b[0minitialize\u001b[0m\u001b[0;34m(\u001b[0m\u001b[0;34m)\u001b[0m\u001b[0;34m\u001b[0m\u001b[0;34m\u001b[0m\u001b[0m\n\u001b[1;32m    269\u001b[0m \u001b[0;34m\u001b[0m\u001b[0m\n",
      "\u001b[0;32m/Library/Frameworks/Python.framework/Versions/3.9/lib/python3.9/site-packages/statsmodels/base/model.py\u001b[0m in \u001b[0;36m__init__\u001b[0;34m(self, endog, exog, **kwargs)\u001b[0m\n\u001b[1;32m     90\u001b[0m         \u001b[0mmissing\u001b[0m \u001b[0;34m=\u001b[0m \u001b[0mkwargs\u001b[0m\u001b[0;34m.\u001b[0m\u001b[0mpop\u001b[0m\u001b[0;34m(\u001b[0m\u001b[0;34m'missing'\u001b[0m\u001b[0;34m,\u001b[0m \u001b[0;34m'none'\u001b[0m\u001b[0;34m)\u001b[0m\u001b[0;34m\u001b[0m\u001b[0;34m\u001b[0m\u001b[0m\n\u001b[1;32m     91\u001b[0m         \u001b[0mhasconst\u001b[0m \u001b[0;34m=\u001b[0m \u001b[0mkwargs\u001b[0m\u001b[0;34m.\u001b[0m\u001b[0mpop\u001b[0m\u001b[0;34m(\u001b[0m\u001b[0;34m'hasconst'\u001b[0m\u001b[0;34m,\u001b[0m \u001b[0;32mNone\u001b[0m\u001b[0;34m)\u001b[0m\u001b[0;34m\u001b[0m\u001b[0;34m\u001b[0m\u001b[0m\n\u001b[0;32m---> 92\u001b[0;31m         self.data = self._handle_data(endog, exog, missing, hasconst,\n\u001b[0m\u001b[1;32m     93\u001b[0m                                       **kwargs)\n\u001b[1;32m     94\u001b[0m         \u001b[0mself\u001b[0m\u001b[0;34m.\u001b[0m\u001b[0mk_constant\u001b[0m \u001b[0;34m=\u001b[0m \u001b[0mself\u001b[0m\u001b[0;34m.\u001b[0m\u001b[0mdata\u001b[0m\u001b[0;34m.\u001b[0m\u001b[0mk_constant\u001b[0m\u001b[0;34m\u001b[0m\u001b[0;34m\u001b[0m\u001b[0m\n",
      "\u001b[0;32m/Library/Frameworks/Python.framework/Versions/3.9/lib/python3.9/site-packages/statsmodels/base/model.py\u001b[0m in \u001b[0;36m_handle_data\u001b[0;34m(self, endog, exog, missing, hasconst, **kwargs)\u001b[0m\n\u001b[1;32m    130\u001b[0m \u001b[0;34m\u001b[0m\u001b[0m\n\u001b[1;32m    131\u001b[0m     \u001b[0;32mdef\u001b[0m \u001b[0m_handle_data\u001b[0m\u001b[0;34m(\u001b[0m\u001b[0mself\u001b[0m\u001b[0;34m,\u001b[0m \u001b[0mendog\u001b[0m\u001b[0;34m,\u001b[0m \u001b[0mexog\u001b[0m\u001b[0;34m,\u001b[0m \u001b[0mmissing\u001b[0m\u001b[0;34m,\u001b[0m \u001b[0mhasconst\u001b[0m\u001b[0;34m,\u001b[0m \u001b[0;34m**\u001b[0m\u001b[0mkwargs\u001b[0m\u001b[0;34m)\u001b[0m\u001b[0;34m:\u001b[0m\u001b[0;34m\u001b[0m\u001b[0;34m\u001b[0m\u001b[0m\n\u001b[0;32m--> 132\u001b[0;31m         \u001b[0mdata\u001b[0m \u001b[0;34m=\u001b[0m \u001b[0mhandle_data\u001b[0m\u001b[0;34m(\u001b[0m\u001b[0mendog\u001b[0m\u001b[0;34m,\u001b[0m \u001b[0mexog\u001b[0m\u001b[0;34m,\u001b[0m \u001b[0mmissing\u001b[0m\u001b[0;34m,\u001b[0m \u001b[0mhasconst\u001b[0m\u001b[0;34m,\u001b[0m \u001b[0;34m**\u001b[0m\u001b[0mkwargs\u001b[0m\u001b[0;34m)\u001b[0m\u001b[0;34m\u001b[0m\u001b[0;34m\u001b[0m\u001b[0m\n\u001b[0m\u001b[1;32m    133\u001b[0m         \u001b[0;31m# kwargs arrays could have changed, easier to just attach here\u001b[0m\u001b[0;34m\u001b[0m\u001b[0;34m\u001b[0m\u001b[0m\n\u001b[1;32m    134\u001b[0m         \u001b[0;32mfor\u001b[0m \u001b[0mkey\u001b[0m \u001b[0;32min\u001b[0m \u001b[0mkwargs\u001b[0m\u001b[0;34m:\u001b[0m\u001b[0;34m\u001b[0m\u001b[0;34m\u001b[0m\u001b[0m\n",
      "\u001b[0;32m/Library/Frameworks/Python.framework/Versions/3.9/lib/python3.9/site-packages/statsmodels/base/data.py\u001b[0m in \u001b[0;36mhandle_data\u001b[0;34m(endog, exog, missing, hasconst, **kwargs)\u001b[0m\n\u001b[1;32m    671\u001b[0m \u001b[0;34m\u001b[0m\u001b[0m\n\u001b[1;32m    672\u001b[0m     \u001b[0mklass\u001b[0m \u001b[0;34m=\u001b[0m \u001b[0mhandle_data_class_factory\u001b[0m\u001b[0;34m(\u001b[0m\u001b[0mendog\u001b[0m\u001b[0;34m,\u001b[0m \u001b[0mexog\u001b[0m\u001b[0;34m)\u001b[0m\u001b[0;34m\u001b[0m\u001b[0;34m\u001b[0m\u001b[0m\n\u001b[0;32m--> 673\u001b[0;31m     return klass(endog, exog=exog, missing=missing, hasconst=hasconst,\n\u001b[0m\u001b[1;32m    674\u001b[0m                  **kwargs)\n",
      "\u001b[0;32m/Library/Frameworks/Python.framework/Versions/3.9/lib/python3.9/site-packages/statsmodels/base/data.py\u001b[0m in \u001b[0;36m__init__\u001b[0;34m(self, endog, exog, missing, hasconst, **kwargs)\u001b[0m\n\u001b[1;32m     84\u001b[0m         \u001b[0mself\u001b[0m\u001b[0;34m.\u001b[0m\u001b[0mconst_idx\u001b[0m \u001b[0;34m=\u001b[0m \u001b[0;32mNone\u001b[0m\u001b[0;34m\u001b[0m\u001b[0;34m\u001b[0m\u001b[0m\n\u001b[1;32m     85\u001b[0m         \u001b[0mself\u001b[0m\u001b[0;34m.\u001b[0m\u001b[0mk_constant\u001b[0m \u001b[0;34m=\u001b[0m \u001b[0;36m0\u001b[0m\u001b[0;34m\u001b[0m\u001b[0;34m\u001b[0m\u001b[0m\n\u001b[0;32m---> 86\u001b[0;31m         \u001b[0mself\u001b[0m\u001b[0;34m.\u001b[0m\u001b[0m_handle_constant\u001b[0m\u001b[0;34m(\u001b[0m\u001b[0mhasconst\u001b[0m\u001b[0;34m)\u001b[0m\u001b[0;34m\u001b[0m\u001b[0;34m\u001b[0m\u001b[0m\n\u001b[0m\u001b[1;32m     87\u001b[0m         \u001b[0mself\u001b[0m\u001b[0;34m.\u001b[0m\u001b[0m_check_integrity\u001b[0m\u001b[0;34m(\u001b[0m\u001b[0;34m)\u001b[0m\u001b[0;34m\u001b[0m\u001b[0;34m\u001b[0m\u001b[0m\n\u001b[1;32m     88\u001b[0m         \u001b[0mself\u001b[0m\u001b[0;34m.\u001b[0m\u001b[0m_cache\u001b[0m \u001b[0;34m=\u001b[0m \u001b[0;34m{\u001b[0m\u001b[0;34m}\u001b[0m\u001b[0;34m\u001b[0m\u001b[0;34m\u001b[0m\u001b[0m\n",
      "\u001b[0;32m/Library/Frameworks/Python.framework/Versions/3.9/lib/python3.9/site-packages/statsmodels/base/data.py\u001b[0m in \u001b[0;36m_handle_constant\u001b[0;34m(self, hasconst)\u001b[0m\n\u001b[1;32m    130\u001b[0m             \u001b[0mexog_max\u001b[0m \u001b[0;34m=\u001b[0m \u001b[0mnp\u001b[0m\u001b[0;34m.\u001b[0m\u001b[0mmax\u001b[0m\u001b[0;34m(\u001b[0m\u001b[0mself\u001b[0m\u001b[0;34m.\u001b[0m\u001b[0mexog\u001b[0m\u001b[0;34m,\u001b[0m \u001b[0maxis\u001b[0m\u001b[0;34m=\u001b[0m\u001b[0;36m0\u001b[0m\u001b[0;34m)\u001b[0m\u001b[0;34m\u001b[0m\u001b[0;34m\u001b[0m\u001b[0m\n\u001b[1;32m    131\u001b[0m             \u001b[0;32mif\u001b[0m \u001b[0;32mnot\u001b[0m \u001b[0mnp\u001b[0m\u001b[0;34m.\u001b[0m\u001b[0misfinite\u001b[0m\u001b[0;34m(\u001b[0m\u001b[0mexog_max\u001b[0m\u001b[0;34m)\u001b[0m\u001b[0;34m.\u001b[0m\u001b[0mall\u001b[0m\u001b[0;34m(\u001b[0m\u001b[0;34m)\u001b[0m\u001b[0;34m:\u001b[0m\u001b[0;34m\u001b[0m\u001b[0;34m\u001b[0m\u001b[0m\n\u001b[0;32m--> 132\u001b[0;31m                 \u001b[0;32mraise\u001b[0m \u001b[0mMissingDataError\u001b[0m\u001b[0;34m(\u001b[0m\u001b[0;34m'exog contains inf or nans'\u001b[0m\u001b[0;34m)\u001b[0m\u001b[0;34m\u001b[0m\u001b[0;34m\u001b[0m\u001b[0m\n\u001b[0m\u001b[1;32m    133\u001b[0m             \u001b[0mexog_min\u001b[0m \u001b[0;34m=\u001b[0m \u001b[0mnp\u001b[0m\u001b[0;34m.\u001b[0m\u001b[0mmin\u001b[0m\u001b[0;34m(\u001b[0m\u001b[0mself\u001b[0m\u001b[0;34m.\u001b[0m\u001b[0mexog\u001b[0m\u001b[0;34m,\u001b[0m \u001b[0maxis\u001b[0m\u001b[0;34m=\u001b[0m\u001b[0;36m0\u001b[0m\u001b[0;34m)\u001b[0m\u001b[0;34m\u001b[0m\u001b[0;34m\u001b[0m\u001b[0m\n\u001b[1;32m    134\u001b[0m             \u001b[0mconst_idx\u001b[0m \u001b[0;34m=\u001b[0m \u001b[0mnp\u001b[0m\u001b[0;34m.\u001b[0m\u001b[0mwhere\u001b[0m\u001b[0;34m(\u001b[0m\u001b[0mexog_max\u001b[0m \u001b[0;34m==\u001b[0m \u001b[0mexog_min\u001b[0m\u001b[0;34m)\u001b[0m\u001b[0;34m[\u001b[0m\u001b[0;36m0\u001b[0m\u001b[0;34m]\u001b[0m\u001b[0;34m.\u001b[0m\u001b[0msqueeze\u001b[0m\u001b[0;34m(\u001b[0m\u001b[0;34m)\u001b[0m\u001b[0;34m\u001b[0m\u001b[0;34m\u001b[0m\u001b[0m\n",
      "\u001b[0;31mMissingDataError\u001b[0m: exog contains inf or nans"
     ]
    }
   ],
   "source": [
    "#https://towardsdatascience.com/time-series-forecasting-with-sarima-in-python-cda5b793977b\n",
    "adfuller_Seattle = adfuller(temperature_df['Seattle'])\n",
    "print(adfuller_Seattle[1])"
   ]
  },
  {
   "cell_type": "markdown",
   "id": "7240b65a",
   "metadata": {},
   "source": [
    "## 7a.\tGraph the predicted values 30 days out."
   ]
  },
  {
   "cell_type": "code",
   "execution_count": null,
   "id": "89ab795e",
   "metadata": {},
   "outputs": [],
   "source": []
  },
  {
   "cell_type": "markdown",
   "id": "c0ef04e6",
   "metadata": {},
   "source": [
    "## 8.\tExplain what you see when you perform results.summary() on the cities in question 7. "
   ]
  },
  {
   "cell_type": "code",
   "execution_count": null,
   "id": "de555181",
   "metadata": {},
   "outputs": [],
   "source": []
  },
  {
   "cell_type": "markdown",
   "id": "d0a67169",
   "metadata": {},
   "source": [
    "## Bonus:\n",
    "What do GARCH and ARCH Stand for? Break down and explain each piece in the names. Explain the difference between the two. Create a GARCH and ARCH model on the same 5 cities from question 6. Explain and graph the results.\n"
   ]
  },
  {
   "cell_type": "code",
   "execution_count": null,
   "id": "ff82f8e9",
   "metadata": {},
   "outputs": [],
   "source": []
  }
 ],
 "metadata": {
  "kernelspec": {
   "display_name": "Python 3 (ipykernel)",
   "language": "python",
   "name": "python3"
  },
  "language_info": {
   "codemirror_mode": {
    "name": "ipython",
    "version": 3
   },
   "file_extension": ".py",
   "mimetype": "text/x-python",
   "name": "python",
   "nbconvert_exporter": "python",
   "pygments_lexer": "ipython3",
   "version": "3.9.7"
  }
 },
 "nbformat": 4,
 "nbformat_minor": 5
}
