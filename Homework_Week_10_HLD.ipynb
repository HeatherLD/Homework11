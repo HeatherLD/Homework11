{
 "cells": [
  {
   "cell_type": "markdown",
   "id": "71e2bcde",
   "metadata": {},
   "source": [
    "# Week 10 Homework, Heather Leighton-Dick"
   ]
  },
  {
   "cell_type": "markdown",
   "id": "0d703904",
   "metadata": {},
   "source": [
    "### 1.\tExplain the dot product and cross product in your own words in markdown. Use LaTeX to properly show the equations."
   ]
  },
  {
   "cell_type": "markdown",
   "id": "e9eb7cd9",
   "metadata": {},
   "source": [
    "The dot product is a measure of how much of two (or more) vectors are going in the same direction. The smaller the dot product, the less collinearity the vectors have, and the larger the dot product, the more the vectors are headed in the same direction (approaching parallel in 2D). The dot product of two vectors is the product of the lengths of each vector multiplied by the cosine of the angle between the vectors.\n",
    "\n",
    "\\begin{equation}v • w = ||v||•||w||•cos\\theta\\end{equation}\n",
    "\n",
    "The cross product is a measure of how perpendicular two (or more) vectors are; the smaller the cross product, the less perpendicular they are, and the larger the cross product, the more perpendicular (orthogonal) they are.\n",
    "\n",
    "\\begin{equation}v x w = ||v||•||w||•sin\\theta\\end{equation}"
   ]
  },
  {
   "cell_type": "code",
   "execution_count": 5,
   "id": "80ba2673",
   "metadata": {},
   "outputs": [],
   "source": [
    "import numpy as np\n",
    "import numpy.linalg as LA\n",
    "import pandas as pd\n",
    "import matplotlib.pyplot as plt\n",
    "import seaborn as sns; sns.set_theme()"
   ]
  },
  {
   "cell_type": "markdown",
   "id": "c3bc7b34",
   "metadata": {},
   "source": [
    "### 2.\tWrite a function called angle_between (v1, v2) where v1 and v2 are two vectors that are passed in, and the angle between them is calculated."
   ]
  },
  {
   "cell_type": "code",
   "execution_count": 65,
   "id": "b92115ad",
   "metadata": {},
   "outputs": [],
   "source": [
    "def angle_between(v1, v2):\n",
    "    try:\n",
    "        dotproduct = np.dot(v1, v2)\n",
    "        v1mag = LA.norm(v1)\n",
    "        v2mag = LA.norm(v2)\n",
    "        magprod = v1mag * v2mag\n",
    "        cos = dotproduct / magprod\n",
    "        if magprod == 0:\n",
    "            print(\"Can't divide by 0.\")\n",
    "        else:\n",
    "            angle = np.arccos(np.clip(cos, -1.0, 1.0))\n",
    "            return(angle)\n",
    "    except Exception as e:\n",
    "        print(e)\n",
    "\n",
    "#deg = np.rad2deg(angle)"
   ]
  },
  {
   "cell_type": "code",
   "execution_count": 66,
   "id": "d27bb03b",
   "metadata": {},
   "outputs": [
    {
     "name": "stdout",
     "output_type": "stream",
     "text": [
      "0.2523447284105255\n"
     ]
    }
   ],
   "source": [
    "v1 = ([3,6,9])\n",
    "v2 = ([5,6,7])\n",
    "print(angle_between(v1,v2))"
   ]
  },
  {
   "cell_type": "markdown",
   "id": "3ecfd5f3",
   "metadata": {},
   "source": [
    "### 3.\tWrite a function called row_dot (A, r1, r2) which takes an input matrix called A, one row number identified by r1, and another row number identified by r2, and then returns the dot product of the r1 and r2 rows (indexing starts at 0)."
   ]
  },
  {
   "cell_type": "code",
   "execution_count": 51,
   "id": "3e436d19",
   "metadata": {},
   "outputs": [
    {
     "name": "stdout",
     "output_type": "stream",
     "text": [
      "122\n"
     ]
    }
   ],
   "source": [
    "A = np.array([[4,5,6],[4,5,6],[7,8,9]])\n",
    "\n",
    "def row_dot(A, r1, r2):\n",
    "    try:\n",
    "        dotprod = np.dot(r1, r2)\n",
    "    except Exception as e:\n",
    "        return 0\n",
    "    return dotprod\n",
    "print(row_dot(A, A[1],A[2]))"
   ]
  },
  {
   "cell_type": "markdown",
   "id": "77883fcc",
   "metadata": {},
   "source": [
    "### 4.\tWrite a function called matrix_division(m1, m2) that takes in two matrices, m1 and m2, and returns the result. What is the trick with matrix division?"
   ]
  },
  {
   "cell_type": "code",
   "execution_count": 150,
   "id": "6a60a6fd",
   "metadata": {},
   "outputs": [
    {
     "name": "stdout",
     "output_type": "stream",
     "text": [
      "[[3. 3. 3.]\n",
      " [2. 2. 2.]]\n"
     ]
    }
   ],
   "source": [
    "m1 = np.array([[3,3,3],[4,4,4]])\n",
    "m2 = np.array([[1,1,1], [2,2,2]])\n",
    "def matrix_division(m1, m2):\n",
    "    try:\n",
    "        result = np.divide(m1, m2)\n",
    "    except Exception as e:\n",
    "        return 0\n",
    "    return result\n",
    "\n",
    "print(matrix_division(m1, m2))\n",
    "\n",
    "#C_inverse = np.linalg.inv(C)\n",
    "#print( C_inverse)"
   ]
  },
  {
   "cell_type": "markdown",
   "id": "4e97436e",
   "metadata": {},
   "source": [
    "There is a difference between divison and true division in Python. [Also, matrix division is the same as multiplying by the inverse of a matrix.\n",
    "#https://www.tutorialspoint.com/matrix-manipulation-in-python]"
   ]
  },
  {
   "cell_type": "markdown",
   "id": "e8395d83",
   "metadata": {},
   "source": [
    "### 5.\tWrite a function is_orthogonal(v1,v2, tol), where v1 and v2 are column vectors of the same size and tol is a scalar value strictly larger than 0. The output should be 1 if the angle between v1 and v2 is within tol of π/2; that is, |π/2−θ|<tol, and 0 otherwise. "
   ]
  },
  {
   "cell_type": "code",
   "execution_count": 91,
   "id": "10c63194",
   "metadata": {},
   "outputs": [],
   "source": [
    "###\"for this question, you can use tol as a stopping condition.\"\n",
    "\n",
    "def angle_between(v1, v2):\n",
    "    v1=a.ravel()\n",
    "    v2=b.ravel()\n",
    "    try:\n",
    "        dotproduct = np.dot(v1, v2)\n",
    "        v1mag = LA.norm(v1)\n",
    "        v2mag = LA.norm(v2)\n",
    "        magprod = v1mag * v2mag\n",
    "        cos = dotproduct / magprod\n",
    "        if magprod == 0:\n",
    "            print(\"Can't divide by 0.\")\n",
    "        else:\n",
    "            angle = np.arccos(np.clip(cos, -1.0, 1.0))\n",
    "            return(angle)\n",
    "    except Exception as e:\n",
    "        print(e)\n",
    "\n",
    "\n",
    "def is_orthogonal(v1, v2, tol):\n",
    "    if tol > 0 and tol > np.absolute(np.pi/2 - (angle_between(v1, v2))):\n",
    "            return (1)\n",
    "    elif tol <= 0:\n",
    "            return(\"Unacceptable tolerance value.\")\n",
    "    else:\n",
    "            return(0)\n"
   ]
  },
  {
   "cell_type": "code",
   "execution_count": 94,
   "id": "8ace543e",
   "metadata": {},
   "outputs": [
    {
     "data": {
      "text/plain": [
       "1"
      ]
     },
     "execution_count": 94,
     "metadata": {},
     "output_type": "execute_result"
    }
   ],
   "source": [
    "# Test cases for problem 5\n",
    "a = np.array([[1], [0.001]])\n",
    "b = np.array([[0.001], [1]])\n",
    "# output: 1\n",
    "is_orthogonal(a,b, 0.01)"
   ]
  },
  {
   "cell_type": "code",
   "execution_count": 88,
   "id": "f5a358ec",
   "metadata": {},
   "outputs": [
    {
     "data": {
      "text/plain": [
       "0"
      ]
     },
     "execution_count": 88,
     "metadata": {},
     "output_type": "execute_result"
    }
   ],
   "source": [
    "# output: 0\n",
    "is_orthogonal(a,b, 0.001)"
   ]
  },
  {
   "cell_type": "code",
   "execution_count": 89,
   "id": "e450d584",
   "metadata": {},
   "outputs": [
    {
     "data": {
      "text/plain": [
       "0"
      ]
     },
     "execution_count": 89,
     "metadata": {},
     "output_type": "execute_result"
    }
   ],
   "source": [
    "# output: 0\n",
    "a = np.array([[1], [0.001]])\n",
    "b = np.array([[1], [1]])\n",
    "is_orthogonal(a,b, 0.01)"
   ]
  },
  {
   "cell_type": "code",
   "execution_count": 90,
   "id": "a59009e7",
   "metadata": {},
   "outputs": [
    {
     "data": {
      "text/plain": [
       "1"
      ]
     },
     "execution_count": 90,
     "metadata": {},
     "output_type": "execute_result"
    }
   ],
   "source": [
    "# output: 1\n",
    "a = np.array([[1], [1]])\n",
    "b = np.array([[-1], [1]])\n",
    "is_orthogonal(a,b, 1e-10)"
   ]
  },
  {
   "cell_type": "code",
   "execution_count": 92,
   "id": "1a486638",
   "metadata": {},
   "outputs": [
    {
     "data": {
      "text/plain": [
       "0"
      ]
     },
     "execution_count": 92,
     "metadata": {},
     "output_type": "execute_result"
    }
   ],
   "source": [
    "# my test\n",
    "a = np.array([[3],[3]])\n",
    "b = np.array([[0.3],[0.3]])\n",
    "is_orthogonal(a,b, 0.01)"
   ]
  },
  {
   "cell_type": "markdown",
   "id": "cae68253",
   "metadata": {},
   "source": [
    "### 6.\tCreate a class called vector_calculator. __init__ should take self, vector1, and vector2. It should have two methods inside of it that are from problems 1 and 4 above (angle_between and is_orthogonal). \n",
    "### (Make sure tol is defaulted but can be overwritten. Make sure you can call angle_between and is_orthogonal through the class and return the correct results as in problems 1 and 4.)"
   ]
  },
  {
   "cell_type": "code",
   "execution_count": 120,
   "id": "2b1a9a66",
   "metadata": {},
   "outputs": [
    {
     "name": "stdout",
     "output_type": "stream",
     "text": [
      "The angle between v1 and v2 is 0.0.\n",
      "The orthogonality of v1 and v2 is 0.\n",
      "None\n"
     ]
    }
   ],
   "source": [
    "class vector_calculator:\n",
    "    def __init__ (self, v1, v2):\n",
    "        self.v1 = v1\n",
    "        self.v2 = v2\n",
    "        self.angle_between = angle_between(v1,v2)\n",
    "        self.is_orthogonal = is_orthogonal(v1,v2, tol=0.001)\n",
    "\n",
    "    def vector_calc(self):\n",
    "        print(\"The angle between v1 and v2 is \" + str(self.angle_between)+\".\")\n",
    "        print(\"The orthogonality of v1 and v2 is \" + str(self.is_orthogonal)+\".\")\n",
    "\n",
    "# my test\n",
    "a = np.array([[5],[5]])\n",
    "b = np.array([[11],[11]])\n",
    "tol = 0.01\n",
    "\n",
    "t1 = vector_calculator(a,b)\n",
    "print(t1.vector_calc())\n",
    "\n",
    "\n",
    "#default tol > 0\n",
    "#not sure why it's printing None.\n"
   ]
  },
  {
   "cell_type": "code",
   "execution_count": 121,
   "id": "09b2c217",
   "metadata": {},
   "outputs": [
    {
     "name": "stdout",
     "output_type": "stream",
     "text": [
      "The angle between v1 and v2 is 1.5707963267948966.\n",
      "The orthogonality of v1 and v2 is 1.\n",
      "None\n"
     ]
    }
   ],
   "source": [
    "#test from #5\n",
    "a = np.array([[1], [1]])\n",
    "b = np.array([[-1], [1]])\n",
    "is_orthogonal(a,b, 1e-10)\n",
    "t1 = vector_calculator(a,b)\n",
    "print(t1.vector_calc())"
   ]
  },
  {
   "cell_type": "markdown",
   "id": "3508ecd2",
   "metadata": {},
   "source": [
    "### 7.\tShow a graphical representation of the breast cancer data outlined in this reading https://www.datacamp.com/community/tutorials/principal-component-analysis-in-python Be sure to describe what PCA is and incorporate the principal components in your plot. This is just exploratory, so there are many correct answers!"
   ]
  },
  {
   "cell_type": "markdown",
   "id": "9365d1c3",
   "metadata": {},
   "source": [
    "Principal Component Analysis (PCA) is a probability/statistics technique which reduces large amounts of data to show patterns that describe, reveal, and approximate the overall shape and patterns of the original data. PCA computes the principal components, a sequence of vectors of which one is the line that best fits the data and is orthogonal to a portion of the vectors in the sequence. Some data is lost when using PCA, but the amount of loss is adjustable based on the needs of the study."
   ]
  },
  {
   "cell_type": "code",
   "execution_count": 6,
   "id": "8a40fd8f",
   "metadata": {},
   "outputs": [],
   "source": [
    "#Copy code from linked reading to pull the data into my notebook and clean it.\n",
    "from sklearn.datasets import load_breast_cancer"
   ]
  },
  {
   "cell_type": "code",
   "execution_count": 7,
   "id": "782afbe1",
   "metadata": {},
   "outputs": [],
   "source": [
    "breast = load_breast_cancer()\n",
    "breast_data = breast.data\n",
    "breast_labels = breast.target\n",
    "labels = np.reshape(breast_labels,(569,1))\n",
    "final_breast_data = np.concatenate([breast_data,labels],axis=1)"
   ]
  },
  {
   "cell_type": "code",
   "execution_count": 8,
   "id": "0c346f63",
   "metadata": {},
   "outputs": [
    {
     "data": {
      "text/plain": [
       "array(['mean radius', 'mean texture', 'mean perimeter', 'mean area',\n",
       "       'mean smoothness', 'mean compactness', 'mean concavity',\n",
       "       'mean concave points', 'mean symmetry', 'mean fractal dimension',\n",
       "       'radius error', 'texture error', 'perimeter error', 'area error',\n",
       "       'smoothness error', 'compactness error', 'concavity error',\n",
       "       'concave points error', 'symmetry error',\n",
       "       'fractal dimension error', 'worst radius', 'worst texture',\n",
       "       'worst perimeter', 'worst area', 'worst smoothness',\n",
       "       'worst compactness', 'worst concavity', 'worst concave points',\n",
       "       'worst symmetry', 'worst fractal dimension'], dtype='<U23')"
      ]
     },
     "execution_count": 8,
     "metadata": {},
     "output_type": "execute_result"
    }
   ],
   "source": [
    "breast_dataset = pd.DataFrame(final_breast_data)\n",
    "features = breast.feature_names\n",
    "features"
   ]
  },
  {
   "cell_type": "code",
   "execution_count": 9,
   "id": "526073b2",
   "metadata": {},
   "outputs": [],
   "source": [
    "features_labels = np.append(features,'label')\n",
    "breast_dataset.columns = features_labels"
   ]
  },
  {
   "cell_type": "code",
   "execution_count": 10,
   "id": "9423ffa9",
   "metadata": {},
   "outputs": [
    {
     "data": {
      "text/html": [
       "<div>\n",
       "<style scoped>\n",
       "    .dataframe tbody tr th:only-of-type {\n",
       "        vertical-align: middle;\n",
       "    }\n",
       "\n",
       "    .dataframe tbody tr th {\n",
       "        vertical-align: top;\n",
       "    }\n",
       "\n",
       "    .dataframe thead th {\n",
       "        text-align: right;\n",
       "    }\n",
       "</style>\n",
       "<table border=\"1\" class=\"dataframe\">\n",
       "  <thead>\n",
       "    <tr style=\"text-align: right;\">\n",
       "      <th></th>\n",
       "      <th>mean radius</th>\n",
       "      <th>mean texture</th>\n",
       "      <th>mean perimeter</th>\n",
       "      <th>mean area</th>\n",
       "      <th>mean smoothness</th>\n",
       "      <th>mean compactness</th>\n",
       "      <th>mean concavity</th>\n",
       "      <th>mean concave points</th>\n",
       "      <th>mean symmetry</th>\n",
       "      <th>mean fractal dimension</th>\n",
       "      <th>...</th>\n",
       "      <th>worst texture</th>\n",
       "      <th>worst perimeter</th>\n",
       "      <th>worst area</th>\n",
       "      <th>worst smoothness</th>\n",
       "      <th>worst compactness</th>\n",
       "      <th>worst concavity</th>\n",
       "      <th>worst concave points</th>\n",
       "      <th>worst symmetry</th>\n",
       "      <th>worst fractal dimension</th>\n",
       "      <th>label</th>\n",
       "    </tr>\n",
       "  </thead>\n",
       "  <tbody>\n",
       "    <tr>\n",
       "      <th>564</th>\n",
       "      <td>21.56</td>\n",
       "      <td>22.39</td>\n",
       "      <td>142.00</td>\n",
       "      <td>1479.0</td>\n",
       "      <td>0.11100</td>\n",
       "      <td>0.11590</td>\n",
       "      <td>0.24390</td>\n",
       "      <td>0.13890</td>\n",
       "      <td>0.1726</td>\n",
       "      <td>0.05623</td>\n",
       "      <td>...</td>\n",
       "      <td>26.40</td>\n",
       "      <td>166.10</td>\n",
       "      <td>2027.0</td>\n",
       "      <td>0.14100</td>\n",
       "      <td>0.21130</td>\n",
       "      <td>0.4107</td>\n",
       "      <td>0.2216</td>\n",
       "      <td>0.2060</td>\n",
       "      <td>0.07115</td>\n",
       "      <td>Benign</td>\n",
       "    </tr>\n",
       "    <tr>\n",
       "      <th>565</th>\n",
       "      <td>20.13</td>\n",
       "      <td>28.25</td>\n",
       "      <td>131.20</td>\n",
       "      <td>1261.0</td>\n",
       "      <td>0.09780</td>\n",
       "      <td>0.10340</td>\n",
       "      <td>0.14400</td>\n",
       "      <td>0.09791</td>\n",
       "      <td>0.1752</td>\n",
       "      <td>0.05533</td>\n",
       "      <td>...</td>\n",
       "      <td>38.25</td>\n",
       "      <td>155.00</td>\n",
       "      <td>1731.0</td>\n",
       "      <td>0.11660</td>\n",
       "      <td>0.19220</td>\n",
       "      <td>0.3215</td>\n",
       "      <td>0.1628</td>\n",
       "      <td>0.2572</td>\n",
       "      <td>0.06637</td>\n",
       "      <td>Benign</td>\n",
       "    </tr>\n",
       "    <tr>\n",
       "      <th>566</th>\n",
       "      <td>16.60</td>\n",
       "      <td>28.08</td>\n",
       "      <td>108.30</td>\n",
       "      <td>858.1</td>\n",
       "      <td>0.08455</td>\n",
       "      <td>0.10230</td>\n",
       "      <td>0.09251</td>\n",
       "      <td>0.05302</td>\n",
       "      <td>0.1590</td>\n",
       "      <td>0.05648</td>\n",
       "      <td>...</td>\n",
       "      <td>34.12</td>\n",
       "      <td>126.70</td>\n",
       "      <td>1124.0</td>\n",
       "      <td>0.11390</td>\n",
       "      <td>0.30940</td>\n",
       "      <td>0.3403</td>\n",
       "      <td>0.1418</td>\n",
       "      <td>0.2218</td>\n",
       "      <td>0.07820</td>\n",
       "      <td>Benign</td>\n",
       "    </tr>\n",
       "    <tr>\n",
       "      <th>567</th>\n",
       "      <td>20.60</td>\n",
       "      <td>29.33</td>\n",
       "      <td>140.10</td>\n",
       "      <td>1265.0</td>\n",
       "      <td>0.11780</td>\n",
       "      <td>0.27700</td>\n",
       "      <td>0.35140</td>\n",
       "      <td>0.15200</td>\n",
       "      <td>0.2397</td>\n",
       "      <td>0.07016</td>\n",
       "      <td>...</td>\n",
       "      <td>39.42</td>\n",
       "      <td>184.60</td>\n",
       "      <td>1821.0</td>\n",
       "      <td>0.16500</td>\n",
       "      <td>0.86810</td>\n",
       "      <td>0.9387</td>\n",
       "      <td>0.2650</td>\n",
       "      <td>0.4087</td>\n",
       "      <td>0.12400</td>\n",
       "      <td>Benign</td>\n",
       "    </tr>\n",
       "    <tr>\n",
       "      <th>568</th>\n",
       "      <td>7.76</td>\n",
       "      <td>24.54</td>\n",
       "      <td>47.92</td>\n",
       "      <td>181.0</td>\n",
       "      <td>0.05263</td>\n",
       "      <td>0.04362</td>\n",
       "      <td>0.00000</td>\n",
       "      <td>0.00000</td>\n",
       "      <td>0.1587</td>\n",
       "      <td>0.05884</td>\n",
       "      <td>...</td>\n",
       "      <td>30.37</td>\n",
       "      <td>59.16</td>\n",
       "      <td>268.6</td>\n",
       "      <td>0.08996</td>\n",
       "      <td>0.06444</td>\n",
       "      <td>0.0000</td>\n",
       "      <td>0.0000</td>\n",
       "      <td>0.2871</td>\n",
       "      <td>0.07039</td>\n",
       "      <td>Malignant</td>\n",
       "    </tr>\n",
       "  </tbody>\n",
       "</table>\n",
       "<p>5 rows × 31 columns</p>\n",
       "</div>"
      ],
      "text/plain": [
       "     mean radius  mean texture  mean perimeter  mean area  mean smoothness  \\\n",
       "564        21.56         22.39          142.00     1479.0          0.11100   \n",
       "565        20.13         28.25          131.20     1261.0          0.09780   \n",
       "566        16.60         28.08          108.30      858.1          0.08455   \n",
       "567        20.60         29.33          140.10     1265.0          0.11780   \n",
       "568         7.76         24.54           47.92      181.0          0.05263   \n",
       "\n",
       "     mean compactness  mean concavity  mean concave points  mean symmetry  \\\n",
       "564           0.11590         0.24390              0.13890         0.1726   \n",
       "565           0.10340         0.14400              0.09791         0.1752   \n",
       "566           0.10230         0.09251              0.05302         0.1590   \n",
       "567           0.27700         0.35140              0.15200         0.2397   \n",
       "568           0.04362         0.00000              0.00000         0.1587   \n",
       "\n",
       "     mean fractal dimension  ...  worst texture  worst perimeter  worst area  \\\n",
       "564                 0.05623  ...          26.40           166.10      2027.0   \n",
       "565                 0.05533  ...          38.25           155.00      1731.0   \n",
       "566                 0.05648  ...          34.12           126.70      1124.0   \n",
       "567                 0.07016  ...          39.42           184.60      1821.0   \n",
       "568                 0.05884  ...          30.37            59.16       268.6   \n",
       "\n",
       "     worst smoothness  worst compactness  worst concavity  \\\n",
       "564           0.14100            0.21130           0.4107   \n",
       "565           0.11660            0.19220           0.3215   \n",
       "566           0.11390            0.30940           0.3403   \n",
       "567           0.16500            0.86810           0.9387   \n",
       "568           0.08996            0.06444           0.0000   \n",
       "\n",
       "     worst concave points  worst symmetry  worst fractal dimension      label  \n",
       "564                0.2216          0.2060                  0.07115     Benign  \n",
       "565                0.1628          0.2572                  0.06637     Benign  \n",
       "566                0.1418          0.2218                  0.07820     Benign  \n",
       "567                0.2650          0.4087                  0.12400     Benign  \n",
       "568                0.0000          0.2871                  0.07039  Malignant  \n",
       "\n",
       "[5 rows x 31 columns]"
      ]
     },
     "execution_count": 10,
     "metadata": {},
     "output_type": "execute_result"
    }
   ],
   "source": [
    "breast_dataset['label'].replace(0, 'Benign',inplace=True)\n",
    "breast_dataset['label'].replace(1, 'Malignant',inplace=True)\n",
    "breast_dataset.tail()"
   ]
  },
  {
   "cell_type": "code",
   "execution_count": 56,
   "id": "c78e1c48",
   "metadata": {},
   "outputs": [],
   "source": [
    "#original reading's PCA calculations\n",
    "from sklearn.preprocessing import StandardScaler\n",
    "\n",
    "x = breast_dataset.loc[:, features].values\n",
    "x = StandardScaler().fit_transform(x)\n",
    "feat_cols = ['feature'+str(i) for i in range(x.shape[1])]\n",
    "normalised_breast = pd.DataFrame(x,columns=feat_cols)\n",
    "\n",
    "# My adjustment of the n_components to 4\n",
    "from sklearn.decomposition import PCA\n",
    "pca_breast = PCA(n_components=4)\n",
    "principalComponents_breast = pca_breast.fit_transform(x)\n",
    "principal_breast_Df = pd.DataFrame(data = principalComponents_breast, columns=(\"principal component 1\", \"principal component 2\", \"principal component 3\", \"principal component 4\"))\n"
   ]
  },
  {
   "cell_type": "code",
   "execution_count": 53,
   "id": "a17c4d5d",
   "metadata": {},
   "outputs": [
    {
     "name": "stdout",
     "output_type": "stream",
     "text": [
      "Explained variation per principal component: [0.44272026 0.18971182 0.09393163 0.06602135]\n"
     ]
    }
   ],
   "source": [
    "print('Explained variation per principal component: {}'.format(pca_breast.explained_variance_ratio_))\n"
   ]
  },
  {
   "cell_type": "markdown",
   "id": "0be6cddc",
   "metadata": {},
   "source": [
    "### Note Regarding the Number of Components:\n",
    "In the linked reading's PCA, ~44% of data is contained in one component, ~19% in the second, \n",
    "and ~36.8% of data was lost. I adjusted the code to use 4 principal components in an effort to incorporate more of the original data; ~44% of data is contained in the first component, ~19% in the second, ~9% in the third, ~6% in the fourth, and ~22% was lost. This adjustment brings the PCA overall of the data to 78% (just over 3/4 of the original set)."
   ]
  },
  {
   "cell_type": "code",
   "execution_count": 55,
   "id": "b9433dbc",
   "metadata": {},
   "outputs": [
    {
     "data": {
      "image/png": "[encoded data removed]",
      "text/plain": [
       "<Figure size 1440x1440 with 2 Axes>"
      ]
     },
     "metadata": {},
     "output_type": "display_data"
    }
   ],
   "source": [
    "## A heatmap of the breast_dataset.\n",
    "fig, ax = plt.subplots(figsize=(20,20))         # Sample figsize in inches\n",
    "ax = sns.heatmap(pca_breast.components_, yticklabels=[ \"PCA\"+str(x) for x in range(1,pca_breast.n_components_+1)],\n",
    "                 xticklabels=list(breast_dataset.columns), ax=ax, cbar_kws={\"orientation\": \"horizontal\"})\n",
    "ax.set_aspect(\"equal\")\n",
    "plt.title(\"Heatmap Principal Component Analysis of Breast Cancer Dataset\",fontsize=20)\n",
    "plt.show()\n",
    "#sns.heatmap(df1.iloc[:, 1:6:], annot=True, linewidths=.5, ax=ax)\n",
    "\n"
   ]
  },
  {
   "cell_type": "markdown",
   "id": "d588dd29",
   "metadata": {},
   "source": [
    "## Observations from the heatmap:\n",
    "Overall, the gradient seems to be larger values from PCA1 to PCA4 from left to right. There seem to be slightly higher values in the lower right of the map, and the mean texture, worst texture, and worst concave points seem to be abnormally darker."
   ]
  },
  {
   "cell_type": "markdown",
   "id": "3a113025",
   "metadata": {},
   "source": [
    "### The page below helped me figure out what to feed the heatmap, and its explanation of PCA is not too shabby either. (I was surprised and interested by the warning that popped up when I ran the webpage's code regarding the ethical use of the housing data set gathered in Boston.)"
   ]
  },
  {
   "cell_type": "code",
   "execution_count": 39,
   "id": "c382ccc7",
   "metadata": {},
   "outputs": [
    {
     "name": "stderr",
     "output_type": "stream",
     "text": [
      "/Library/Frameworks/Python.framework/Versions/3.9/lib/python3.9/site-packages/sklearn/utils/deprecation.py:87: FutureWarning: Function load_boston is deprecated; `load_boston` is deprecated in 1.0 and will be removed in 1.2.\n",
      "\n",
      "    The Boston housing prices dataset has an ethical problem. You can refer to\n",
      "    the documentation of this function for further details.\n",
      "\n",
      "    The scikit-learn maintainers therefore strongly discourage the use of this\n",
      "    dataset unless the purpose of the code is to study and educate about\n",
      "    ethical issues in data science and machine learning.\n",
      "\n",
      "    In this case special case, you can fetch the dataset from the original\n",
      "    source::\n",
      "\n",
      "        import pandas as pd\n",
      "        import numpy as np\n",
      "\n",
      "\n",
      "        data_url = \"http://lib.stat.cmu.edu/datasets/boston\"\n",
      "        raw_df = pd.read_csv(data_url, sep=\"\\s+\", skiprows=22, header=None)\n",
      "        data = np.hstack([raw_df.values[::2, :], raw_df.values[1::2, :2]])\n",
      "        target = raw_df.values[1::2, 2]\n",
      "\n",
      "    Alternative datasets include the California housing dataset (i.e.\n",
      "    func:`~sklearn.datasets.fetch_california_housing`) and the Ames housing\n",
      "    dataset. You can load the datasets as follows:\n",
      "\n",
      "        from sklearn.datasets import fetch_california_housing\n",
      "        housing = fetch_california_housing()\n",
      "\n",
      "    for the California housing dataset and:\n",
      "\n",
      "        from sklearn.datasets import fetch_openml\n",
      "        housing = fetch_openml(name=\"house_prices\", as_frame=True)\n",
      "\n",
      "    for the Ames housing dataset.\n",
      "    \n",
      "  warnings.warn(msg, category=FutureWarning)\n"
     ]
    },
    {
     "data": {
      "image/png": "[encoded data removed]",
      "text/plain": [
       "<Figure size 432x288 with 2 Axes>"
      ]
     },
     "metadata": {},
     "output_type": "display_data"
    }
   ],
   "source": [
    "#https://ostwalprasad.github.io/machine-learning/PCA-using-python.html\n",
    "\n",
    "from sklearn.datasets import load_boston\n",
    "boston_dataset = load_boston()\n",
    "boston = pd.DataFrame(boston_dataset.data, columns=boston_dataset.feature_names)\n",
    "boston.head()\n",
    "\n",
    "from sklearn.preprocessing import StandardScaler\n",
    "x = StandardScaler().fit_transform(boston)\n",
    "x = pd.DataFrame(x, columns=boston_dataset.feature_names)\n",
    "\n",
    "from sklearn.decomposition import PCA\n",
    "pcamodel = PCA(n_components=5)\n",
    "pca = pcamodel.fit_transform(x)\n",
    "pca.shape\n",
    "pcamodel.explained_variance_\n",
    "\n",
    "ax = sns.heatmap(pcamodel.components_,\n",
    "                 cmap='YlGnBu',\n",
    "                 yticklabels=[ \"PCA\"+str(x) for x in range(1,pcamodel.n_components_+1)],\n",
    "                 xticklabels=list(x.columns),\n",
    "                 cbar_kws={\"orientation\": \"horizontal\"})\n",
    "ax.set_aspect(\"equal\")"
   ]
  },
  {
   "cell_type": "code",
   "execution_count": null,
   "id": "b24b0429",
   "metadata": {},
   "outputs": [],
   "source": []
  }
 ],
 "metadata": {
  "kernelspec": {
   "display_name": "Python 3 (ipykernel)",
   "language": "python",
   "name": "python3"
  },
  "language_info": {
   "codemirror_mode": {
    "name": "ipython",
    "version": 3
   },
   "file_extension": ".py",
   "mimetype": "text/x-python",
   "name": "python",
   "nbconvert_exporter": "python",
   "pygments_lexer": "ipython3",
   "version": "3.9.7"
  }
 },
 "nbformat": 4,
 "nbformat_minor": 5
}
