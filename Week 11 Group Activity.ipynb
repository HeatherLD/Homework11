{
 "cells": [
  {
   "cell_type": "code",
   "execution_count": 2,
   "id": "630ff828",
   "metadata": {},
   "outputs": [],
   "source": [
    "from statsmodels.graphics.tsaplots import plot_acf, plot_pacf\n",
    "from statsmodels.tsa.arima.model import ARIMA"
   ]
  },
  {
   "cell_type": "code",
   "execution_count": 3,
   "id": "bf72e9a0",
   "metadata": {},
   "outputs": [],
   "source": [
    "from arma_scipy import fit"
   ]
  },
  {
   "cell_type": "code",
   "execution_count": 4,
   "id": "146ff20f",
   "metadata": {},
   "outputs": [],
   "source": [
    "import pandas as pd\n",
    "import matplotlib.pyplot as plt\n",
    "import numpy as np"
   ]
  },
  {
   "cell_type": "code",
   "execution_count": 6,
   "id": "549a50ef",
   "metadata": {},
   "outputs": [
    {
     "name": "stdout",
     "output_type": "stream",
     "text": [
      "           Category: All categories\n",
      "2021-10-31                       <1\n",
      "2021-11-07                        1\n",
      "2021-11-14                        1\n",
      "2021-11-21                        3\n",
      "2021-11-28                        4\n"
     ]
    }
   ],
   "source": [
    "file_to_load = \"multiTimeline.csv\"\n",
    "spotify_wrap_df = pd.read_csv(\"multiTimeline.csv\")\n",
    "print(spotify_wrap_df.tail())"
   ]
  },
  {
   "cell_type": "code",
   "execution_count": null,
   "id": "d8d1b143",
   "metadata": {},
   "outputs": [],
   "source": []
  }
 ],
 "metadata": {
  "kernelspec": {
   "display_name": "Python 3 (ipykernel)",
   "language": "python",
   "name": "python3"
  },
  "language_info": {
   "codemirror_mode": {
    "name": "ipython",
    "version": 3
   },
   "file_extension": ".py",
   "mimetype": "text/x-python",
   "name": "python",
   "nbconvert_exporter": "python",
   "pygments_lexer": "ipython3",
   "version": "3.9.7"
  }
 },
 "nbformat": 4,
 "nbformat_minor": 5
}
